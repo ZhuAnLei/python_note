{
 "cells": [
  {
   "cell_type": "code",
   "execution_count": 1,
   "metadata": {},
   "outputs": [],
   "source": [
    "import cv2\n",
    "import mediapipe as mp\n",
    "from tqdm import tqdm\n",
    "import time"
   ]
  },
  {
   "cell_type": "code",
   "execution_count": 2,
   "metadata": {},
   "outputs": [],
   "source": [
    "#导入solution\n",
    "mp_pose = mp.solutions.pose\n",
    "\n",
    "#导入绘图函数\n",
    "mp_drawing = mp.solutions.drawing_utils\n",
    "\n",
    "#导入模型\n",
    "pose = mp_pose.Pose(\n",
    "    static_image_mode=False,         #是静态图片还是连续视频帧\n",
    "    model_complexity=2,             #选择人体姿势关键点检测模型，0性能差但是快，2性能好但是慢，1介于两者之间\n",
    "    smooth_landmarks=True,          #是否平滑关键点\n",
    "    enable_segmentation=True,       #是否人体抠图\n",
    "    smooth_segmentation=True,\n",
    "    min_detection_confidence=0.5,   #置信度阈值\n",
    "    min_tracking_confidence=0.5,    #追踪阈值\n",
    ")"
   ]
  },
  {
   "cell_type": "markdown",
   "metadata": {},
   "source": [
    "##### 处理单帧函数"
   ]
  },
  {
   "cell_type": "code",
   "execution_count": 3,
   "metadata": {},
   "outputs": [],
   "source": [
    "# 处理帧函数\n",
    "def process_frame(img):\n",
    "    img_RGB = cv2.cvtColor(img,cv2.COLOR_BGR2RGB)\n",
    "\n",
    "    #将RGB图像输入模型，获取预测结果\n",
    "    results = pose.process(img_RGB)\n",
    "\n",
    "    #可视化\n",
    "    mp_drawing.draw_landmarks(img,results.pose_landmarks,mp_pose.POSE_CONNECTIONS)  \n",
    "\n",
    "    return img"
   ]
  },
  {
   "cell_type": "markdown",
   "metadata": {},
   "source": [
    "##### 调用摄像头获取每帧(模板)"
   ]
  },
  {
   "cell_type": "code",
   "execution_count": 4,
   "metadata": {},
   "outputs": [],
   "source": [
    "import cv2\n",
    "import time\n",
    "cap = cv2.VideoCapture(0)\n",
    "cap.open(0)\n",
    "while cap.isOpened():\n",
    "    success,frame = cap.read()\n",
    "    if not success:\n",
    "        print('ERROR')\n",
    "        break\n",
    "\n",
    "    #处理帧函数\n",
    "    frame = process_frame(frame)\n",
    "    \n",
    "    #展示处理后的三通道图像\n",
    "    cv2.imshow('My_Windows',frame)\n",
    "\n",
    "    if cv2.waitKey(1) in[ord('q'),27]:#按键盘上的q或者esc退出(在英文输入法下)\n",
    "        break\n",
    "#关闭摄像头\n",
    "cap.release()\n",
    "#关闭图像窗口\n",
    "cv2.destroyAllWindows()"
   ]
  },
  {
   "cell_type": "code",
   "execution_count": null,
   "metadata": {},
   "outputs": [],
   "source": []
  }
 ],
 "metadata": {
  "interpreter": {
   "hash": "8325690feb577cac385ec0fc6939deb5266811a72568d455e88d36c3be9397bb"
  },
  "kernelspec": {
   "display_name": "Python 3.7.8 ('base')",
   "language": "python",
   "name": "python3"
  },
  "language_info": {
   "codemirror_mode": {
    "name": "ipython",
    "version": 3
   },
   "file_extension": ".py",
   "mimetype": "text/x-python",
   "name": "python",
   "nbconvert_exporter": "python",
   "pygments_lexer": "ipython3",
   "version": "3.7.8"
  },
  "orig_nbformat": 4
 },
 "nbformat": 4,
 "nbformat_minor": 2
}
