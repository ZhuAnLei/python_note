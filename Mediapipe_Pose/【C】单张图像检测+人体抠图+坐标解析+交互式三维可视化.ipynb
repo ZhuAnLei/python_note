{
 "cells": [
  {
   "cell_type": "code",
   "execution_count": 1,
   "metadata": {},
   "outputs": [],
   "source": [
    "import cv2\n",
    "import mediapipe as mp\n",
    "from tqdm import tqdm\n",
    "import time\n",
    "import matplotlib.pyplot as plt\n",
    "%matplotlib inline"
   ]
  },
  {
   "cell_type": "code",
   "execution_count": 2,
   "metadata": {},
   "outputs": [],
   "source": [
    "#定义可视化图像函数\n",
    "def look_img(img):\n",
    "    img_RGB = cv2.cvtColor(img,cv2.COLOR_BGR2RGB)\n",
    "    plt.imshow(img_RGB)\n",
    "    plt.show()"
   ]
  },
  {
   "cell_type": "markdown",
   "metadata": {},
   "source": [
    "##### 导入模型"
   ]
  },
  {
   "cell_type": "code",
   "execution_count": 3,
   "metadata": {},
   "outputs": [],
   "source": [
    "#导入solution\n",
    "mp_pose = mp.solutions.pose\n",
    "\n",
    "#导入绘图函数\n",
    "mp_drawing = mp.solutions.drawing_utils\n",
    "\n",
    "#导入模型\n",
    "pose = mp_pose.Pose(\n",
    "    static_image_mode=True,         #是静态图片还是连续视频帧\n",
    "    model_complexity=2,             #选择人体姿势关键点检测模型，0性能差但是快，2性能好但是慢，1介于两者之间\n",
    "    smooth_landmarks=True,          #是否平滑关键点\n",
    "    enable_segmentation=True,       #是否人体抠图\n",
    "    smooth_segmentation=True,\n",
    "    min_detection_confidence=0.5,   #置信度阈值\n",
    "    min_tracking_confidence=0.5,    #追踪阈值\n",
    ")"
   ]
  },
  {
   "cell_type": "markdown",
   "metadata": {},
   "source": [
    "##### 读入图像，输入模型，获取预测结果"
   ]
  },
  {
   "cell_type": "code",
   "execution_count": 4,
   "metadata": {},
   "outputs": [],
   "source": [
    "img = cv2.imread('test.jpg')\n",
    "\n",
    "img_RGB = cv2.cvtColor(img,cv2.COLOR_BGR2RGB)\n",
    "\n",
    "#将RGB图像输入模型，获取预测结果\n",
    "results = pose.process(img_RGB)"
   ]
  },
  {
   "cell_type": "code",
   "execution_count": 5,
   "metadata": {},
   "outputs": [
    {
     "data": {
      "text/plain": [
       "mediapipe.python.solution_base.SolutionOutputs"
      ]
     },
     "execution_count": 5,
     "metadata": {},
     "output_type": "execute_result"
    }
   ],
   "source": [
    "results"
   ]
  },
  {
   "cell_type": "markdown",
   "metadata": {},
   "source": [
    "##### 人体抠像结果"
   ]
  },
  {
   "cell_type": "code",
   "execution_count": 6,
   "metadata": {},
   "outputs": [],
   "source": [
    "mask = results.segmentation_mask"
   ]
  },
  {
   "cell_type": "code",
   "execution_count": 7,
   "metadata": {},
   "outputs": [
    {
     "data": {
      "text/plain": [
       "(1920, 1280)"
      ]
     },
     "execution_count": 7,
     "metadata": {},
     "output_type": "execute_result"
    }
   ],
   "source": [
    "mask.shape"
   ]
  },
  {
   "cell_type": "code",
   "execution_count": 8,
   "metadata": {},
   "outputs": [
    {
     "data": {
      "text/plain": [
       "(1920, 1280, 3)"
      ]
     },
     "execution_count": 8,
     "metadata": {},
     "output_type": "execute_result"
    }
   ],
   "source": [
    "img.shape"
   ]
  },
  {
   "cell_type": "code",
   "execution_count": 9,
   "metadata": {},
   "outputs": [
    {
     "data": {
      "text/plain": [
       "array([[0., 0., 0., ..., 0., 0., 0.],\n",
       "       [0., 0., 0., ..., 0., 0., 0.],\n",
       "       [0., 0., 0., ..., 0., 0., 0.],\n",
       "       ...,\n",
       "       [0., 0., 0., ..., 0., 0., 0.],\n",
       "       [0., 0., 0., ..., 0., 0., 0.],\n",
       "       [0., 0., 0., ..., 0., 0., 0.]], dtype=float32)"
      ]
     },
     "execution_count": 9,
     "metadata": {},
     "output_type": "execute_result"
    }
   ],
   "source": [
    "mask"
   ]
  },
  {
   "cell_type": "code",
   "execution_count": 10,
   "metadata": {},
   "outputs": [],
   "source": [
    "mask = mask > 0.5"
   ]
  },
  {
   "cell_type": "code",
   "execution_count": 11,
   "metadata": {},
   "outputs": [
    {
     "data": {
      "image/png": "[encoded data removed]",
      "text/plain": [
       "<Figure size 432x288 with 1 Axes>"
      ]
     },
     "metadata": {
      "needs_background": "light"
     },
     "output_type": "display_data"
    }
   ],
   "source": [
    "plt.imshow(mask)\n",
    "plt.show()"
   ]
  },
  {
   "cell_type": "code",
   "execution_count": 13,
   "metadata": {},
   "outputs": [],
   "source": [
    "import numpy as np\n",
    "# 单通道转三通道\n",
    "mask_3 = np.stack((mask,mask,mask),axis=-1)\n",
    "\n",
    "MASK_COLOR = [0,200,0]\n",
    "fg_image = np.zeros(img.shape,dtype=np.uint8)\n",
    "fg_image[:] = MASK_COLOR\n",
    "\n",
    "#获取前景人像\n",
    "FG_img = np.where(mask_3,img,fg_image)\n",
    "\n",
    "#获取扣掉前景人像的背景\n",
    "BG_img = np.where(~mask_3,img,fg_image)"
   ]
  },
  {
   "cell_type": "code",
   "execution_count": 14,
   "metadata": {},
   "outputs": [
    {
     "data": {
      "image/png": "[encoded data removed]",
      "text/plain": [
       "<Figure size 432x288 with 1 Axes>"
      ]
     },
     "metadata": {
      "needs_background": "light"
     },
     "output_type": "display_data"
    }
   ],
   "source": [
    "look_img(FG_img)"
   ]
  },
  {
   "cell_type": "code",
   "execution_count": 15,
   "metadata": {},
   "outputs": [
    {
     "data": {
      "image/png": "[encoded data removed]",
      "text/plain": [
       "<Figure size 432x288 with 1 Axes>"
      ]
     },
     "metadata": {
      "needs_background": "light"
     },
     "output_type": "display_data"
    }
   ],
   "source": [
    "look_img(BG_img)"
   ]
  },
  {
   "cell_type": "markdown",
   "metadata": {},
   "source": [
    "##### 所有关键点检测结果"
   ]
  },
  {
   "cell_type": "code",
   "execution_count": 16,
   "metadata": {},
   "outputs": [
    {
     "data": {
      "text/plain": [
       "landmark {\n",
       "  x: 0.43170350790023804\n",
       "  y: 0.2775278091430664\n",
       "  z: -0.6325309872627258\n",
       "  visibility: 1.0\n",
       "}\n",
       "landmark {\n",
       "  x: 0.4449617266654968\n",
       "  y: 0.263005793094635\n",
       "  z: -0.6008321642875671\n",
       "  visibility: 0.9999998807907104\n",
       "}\n",
       "landmark {\n",
       "  x: 0.45448416471481323\n",
       "  y: 0.26234424114227295\n",
       "  z: -0.6012418270111084\n",
       "  visibility: 0.9999998807907104\n",
       "}\n",
       "landmark {\n",
       "  x: 0.4647213816642761\n",
       "  y: 0.26203110814094543\n",
       "  z: -0.6008548140525818\n",
       "  visibility: 0.9999998807907104\n",
       "}\n",
       "landmark {\n",
       "  x: 0.4234493374824524\n",
       "  y: 0.2638671398162842\n",
       "  z: -0.5768621563911438\n",
       "  visibility: 0.9999998807907104\n",
       "}\n",
       "landmark {\n",
       "  x: 0.4170674681663513\n",
       "  y: 0.26340895891189575\n",
       "  z: -0.5773522257804871\n",
       "  visibility: 0.9999998807907104\n",
       "}\n",
       "landmark {\n",
       "  x: 0.4112139344215393\n",
       "  y: 0.26276418566703796\n",
       "  z: -0.5774286985397339\n",
       "  visibility: 0.9999998807907104\n",
       "}\n",
       "landmark {\n",
       "  x: 0.47898226976394653\n",
       "  y: 0.263754665851593\n",
       "  z: -0.37337642908096313\n",
       "  visibility: 0.9999998807907104\n",
       "}\n",
       "landmark {\n",
       "  x: 0.4128172993659973\n",
       "  y: 0.2610451281070709\n",
       "  z: -0.26836198568344116\n",
       "  visibility: 0.9999998807907104\n",
       "}\n",
       "landmark {\n",
       "  x: 0.4487845003604889\n",
       "  y: 0.28870365023612976\n",
       "  z: -0.5451633930206299\n",
       "  visibility: 0.9999997615814209\n",
       "}\n",
       "landmark {\n",
       "  x: 0.42330607771873474\n",
       "  y: 0.2878100574016571\n",
       "  z: -0.5185578465461731\n",
       "  visibility: 0.9999997615814209\n",
       "}\n",
       "landmark {\n",
       "  x: 0.5417149066925049\n",
       "  y: 0.33605411648750305\n",
       "  z: -0.31664174795150757\n",
       "  visibility: 0.9999936819076538\n",
       "}\n",
       "landmark {\n",
       "  x: 0.3998345732688904\n",
       "  y: 0.3058302700519562\n",
       "  z: 0.016189368441700935\n",
       "  visibility: 0.9999793767929077\n",
       "}\n",
       "landmark {\n",
       "  x: 0.6337472796440125\n",
       "  y: 0.34789329767227173\n",
       "  z: -0.7948378920555115\n",
       "  visibility: 0.9999284744262695\n",
       "}\n",
       "landmark {\n",
       "  x: 0.35226258635520935\n",
       "  y: 0.2779351472854614\n",
       "  z: 0.4023900032043457\n",
       "  visibility: 0.4914070963859558\n",
       "}\n",
       "landmark {\n",
       "  x: 0.7336364984512329\n",
       "  y: 0.3398286700248718\n",
       "  z: -1.405750036239624\n",
       "  visibility: 0.9999926090240479\n",
       "}\n",
       "landmark {\n",
       "  x: 0.32424283027648926\n",
       "  y: 0.2844303846359253\n",
       "  z: 0.8132072687149048\n",
       "  visibility: 0.9276286363601685\n",
       "}\n",
       "landmark {\n",
       "  x: 0.7613903284072876\n",
       "  y: 0.33223721385002136\n",
       "  z: -1.4896669387817383\n",
       "  visibility: 0.9999921321868896\n",
       "}\n",
       "landmark {\n",
       "  x: 0.3165366053581238\n",
       "  y: 0.2966572940349579\n",
       "  z: 0.8768194913864136\n",
       "  visibility: 0.9205535650253296\n",
       "}\n",
       "landmark {\n",
       "  x: 0.7471447587013245\n",
       "  y: 0.32614558935165405\n",
       "  z: -1.5531712770462036\n",
       "  visibility: 0.9999949932098389\n",
       "}\n",
       "landmark {\n",
       "  x: 0.3260984718799591\n",
       "  y: 0.299606591463089\n",
       "  z: 0.8693557977676392\n",
       "  visibility: 0.9236494302749634\n",
       "}\n",
       "landmark {\n",
       "  x: 0.7332078218460083\n",
       "  y: 0.331220805644989\n",
       "  z: -1.4466346502304077\n",
       "  visibility: 0.9999890327453613\n",
       "}\n",
       "landmark {\n",
       "  x: 0.3308066129684448\n",
       "  y: 0.2986500561237335\n",
       "  z: 0.8205798864364624\n",
       "  visibility: 0.9148781895637512\n",
       "}\n",
       "landmark {\n",
       "  x: 0.5400222539901733\n",
       "  y: 0.5205630660057068\n",
       "  z: -0.10097305476665497\n",
       "  visibility: 0.999809205532074\n",
       "}\n",
       "landmark {\n",
       "  x: 0.4334285259246826\n",
       "  y: 0.5189348459243774\n",
       "  z: 0.10084249079227448\n",
       "  visibility: 0.9998237490653992\n",
       "}\n",
       "landmark {\n",
       "  x: 0.69063401222229\n",
       "  y: 0.610144317150116\n",
       "  z: -0.1799449920654297\n",
       "  visibility: 0.9997519850730896\n",
       "}\n",
       "landmark {\n",
       "  x: 0.2843995988368988\n",
       "  y: 0.5687586069107056\n",
       "  z: -0.307630717754364\n",
       "  visibility: 0.9969314336776733\n",
       "}\n",
       "landmark {\n",
       "  x: 0.8610224723815918\n",
       "  y: 0.6976264119148254\n",
       "  z: -0.11003130674362183\n",
       "  visibility: 0.9996345043182373\n",
       "}\n",
       "landmark {\n",
       "  x: 0.2493315041065216\n",
       "  y: 0.6971288919448853\n",
       "  z: -0.18262465298175812\n",
       "  visibility: 0.9957966804504395\n",
       "}\n",
       "landmark {\n",
       "  x: 0.8705729246139526\n",
       "  y: 0.707776665687561\n",
       "  z: -0.11459096521139145\n",
       "  visibility: 0.9977598190307617\n",
       "}\n",
       "landmark {\n",
       "  x: 0.26665470004081726\n",
       "  y: 0.7201577425003052\n",
       "  z: -0.1790832281112671\n",
       "  visibility: 0.9922055602073669\n",
       "}\n",
       "landmark {\n",
       "  x: 0.8954768180847168\n",
       "  y: 0.7401878237724304\n",
       "  z: -0.32299983501434326\n",
       "  visibility: 0.9997401833534241\n",
       "}\n",
       "landmark {\n",
       "  x: 0.16002947092056274\n",
       "  y: 0.7309926748275757\n",
       "  z: -0.34165966510772705\n",
       "  visibility: 0.9977681636810303\n",
       "}"
      ]
     },
     "execution_count": 16,
     "metadata": {},
     "output_type": "execute_result"
    }
   ],
   "source": [
    "results.pose_landmarks"
   ]
  },
  {
   "cell_type": "code",
   "execution_count": 17,
   "metadata": {},
   "outputs": [
    {
     "data": {
      "text/plain": [
       "frozenset({(0, 1),\n",
       "           (0, 4),\n",
       "           (1, 2),\n",
       "           (2, 3),\n",
       "           (3, 7),\n",
       "           (4, 5),\n",
       "           (5, 6),\n",
       "           (6, 8),\n",
       "           (9, 10),\n",
       "           (11, 12),\n",
       "           (11, 13),\n",
       "           (11, 23),\n",
       "           (12, 14),\n",
       "           (12, 24),\n",
       "           (13, 15),\n",
       "           (14, 16),\n",
       "           (15, 17),\n",
       "           (15, 19),\n",
       "           (15, 21),\n",
       "           (16, 18),\n",
       "           (16, 20),\n",
       "           (16, 22),\n",
       "           (17, 19),\n",
       "           (18, 20),\n",
       "           (23, 24),\n",
       "           (23, 25),\n",
       "           (24, 26),\n",
       "           (25, 27),\n",
       "           (26, 28),\n",
       "           (27, 29),\n",
       "           (27, 31),\n",
       "           (28, 30),\n",
       "           (28, 32),\n",
       "           (29, 31),\n",
       "           (30, 32)})"
      ]
     },
     "execution_count": 17,
     "metadata": {},
     "output_type": "execute_result"
    }
   ],
   "source": [
    "mp_pose.POSE_CONNECTIONS"
   ]
  },
  {
   "cell_type": "code",
   "execution_count": 18,
   "metadata": {},
   "outputs": [
    {
     "data": {
      "text/plain": [
       "x: 0.6337472796440125\n",
       "y: 0.34789329767227173\n",
       "z: -0.7948378920555115\n",
       "visibility: 0.9999284744262695"
      ]
     },
     "execution_count": 18,
     "metadata": {},
     "output_type": "execute_result"
    }
   ],
   "source": [
    "# 左胳膊肘关键点的归一化坐标\n",
    "results.pose_landmarks.landmark[mp_pose.PoseLandmark.LEFT_ELBOW]"
   ]
  },
  {
   "cell_type": "code",
   "execution_count": 19,
   "metadata": {},
   "outputs": [
    {
     "data": {
      "text/plain": [
       "x: 0.6337472796440125\n",
       "y: 0.34789329767227173\n",
       "z: -0.7948378920555115\n",
       "visibility: 0.9999284744262695"
      ]
     },
     "execution_count": 19,
     "metadata": {},
     "output_type": "execute_result"
    }
   ],
   "source": [
    "# 左胳膊肘关键点的归一化坐标\n",
    "results.pose_landmarks.landmark[13]"
   ]
  },
  {
   "cell_type": "code",
   "execution_count": 20,
   "metadata": {},
   "outputs": [
    {
     "data": {
      "text/plain": [
       "0.6337472796440125"
      ]
     },
     "execution_count": 20,
     "metadata": {},
     "output_type": "execute_result"
    }
   ],
   "source": [
    "# 左胳膊肘关键点的归一化坐标\n",
    "results.pose_landmarks.landmark[13].x"
   ]
  },
  {
   "cell_type": "markdown",
   "metadata": {},
   "source": [
    "##### 解析指定关键点的像素坐标"
   ]
  },
  {
   "cell_type": "code",
   "execution_count": 21,
   "metadata": {},
   "outputs": [
    {
     "data": {
      "text/plain": [
       "(1920, 1280, 3)"
      ]
     },
     "execution_count": 21,
     "metadata": {},
     "output_type": "execute_result"
    }
   ],
   "source": [
    "img.shape"
   ]
  },
  {
   "cell_type": "code",
   "execution_count": 22,
   "metadata": {},
   "outputs": [],
   "source": [
    "h = img.shape[0]\n",
    "w = img.shape[1]"
   ]
  },
  {
   "cell_type": "code",
   "execution_count": 23,
   "metadata": {},
   "outputs": [
    {
     "data": {
      "text/plain": [
       "811.1965179443359"
      ]
     },
     "execution_count": 23,
     "metadata": {},
     "output_type": "execute_result"
    }
   ],
   "source": [
    "# 左胳膊肘关键点像素坐标\n",
    "results.pose_landmarks.landmark[mp_pose.PoseLandmark.LEFT_ELBOW].x *w"
   ]
  },
  {
   "cell_type": "code",
   "execution_count": 24,
   "metadata": {},
   "outputs": [
    {
     "data": {
      "text/plain": [
       "667.9551315307617"
      ]
     },
     "execution_count": 24,
     "metadata": {},
     "output_type": "execute_result"
    }
   ],
   "source": [
    "# 左胳膊肘关键点像素坐标\n",
    "results.pose_landmarks.landmark[mp_pose.PoseLandmark.LEFT_ELBOW].y *h"
   ]
  },
  {
   "cell_type": "markdown",
   "metadata": {},
   "source": [
    "##### 解析指定关键点的真实物理(米)坐标"
   ]
  },
  {
   "cell_type": "markdown",
   "metadata": {},
   "source": [
    "###### 真实物理坐标的原点位于左右髋关节连线的中点(肚脐附近)"
   ]
  },
  {
   "cell_type": "code",
   "execution_count": 25,
   "metadata": {},
   "outputs": [
    {
     "data": {
      "text/plain": [
       "x: -0.10905410349369049\n",
       "y: -0.5750669240951538\n",
       "z: -0.4026825726032257\n",
       "visibility: 1.0"
      ]
     },
     "execution_count": 25,
     "metadata": {},
     "output_type": "execute_result"
    }
   ],
   "source": [
    "results.pose_world_landmarks.landmark[mp_pose.PoseLandmark.NOSE]"
   ]
  },
  {
   "cell_type": "code",
   "execution_count": 26,
   "metadata": {},
   "outputs": [
    {
     "data": {
      "text/plain": [
       "x: 0.09511511772871017\n",
       "y: 0.001764865592122078\n",
       "z: -0.02278193272650242\n",
       "visibility: 0.999809205532074"
      ]
     },
     "execution_count": 26,
     "metadata": {},
     "output_type": "execute_result"
    }
   ],
   "source": [
    "results.pose_world_landmarks.landmark[23]"
   ]
  },
  {
   "cell_type": "markdown",
   "metadata": {},
   "source": [
    "##### 交互式三维可视化"
   ]
  },
  {
   "cell_type": "code",
   "execution_count": 27,
   "metadata": {},
   "outputs": [],
   "source": [
    "import numpy as np"
   ]
  },
  {
   "cell_type": "code",
   "execution_count": 28,
   "metadata": {},
   "outputs": [],
   "source": [
    "coords = np.array(results.pose_landmarks.landmark)"
   ]
  },
  {
   "cell_type": "code",
   "execution_count": 29,
   "metadata": {},
   "outputs": [
    {
     "data": {
      "text/plain": [
       "array([x: 0.43170350790023804\n",
       "y: 0.2775278091430664\n",
       "z: -0.6325309872627258\n",
       "visibility: 1.0\n",
       ",\n",
       "       x: 0.4449617266654968\n",
       "y: 0.263005793094635\n",
       "z: -0.6008321642875671\n",
       "visibility: 0.9999998807907104\n",
       ",\n",
       "       x: 0.45448416471481323\n",
       "y: 0.26234424114227295\n",
       "z: -0.6012418270111084\n",
       "visibility: 0.9999998807907104\n",
       ",\n",
       "       x: 0.4647213816642761\n",
       "y: 0.26203110814094543\n",
       "z: -0.6008548140525818\n",
       "visibility: 0.9999998807907104\n",
       ",\n",
       "       x: 0.4234493374824524\n",
       "y: 0.2638671398162842\n",
       "z: -0.5768621563911438\n",
       "visibility: 0.9999998807907104\n",
       ",\n",
       "       x: 0.4170674681663513\n",
       "y: 0.26340895891189575\n",
       "z: -0.5773522257804871\n",
       "visibility: 0.9999998807907104\n",
       ",\n",
       "       x: 0.4112139344215393\n",
       "y: 0.26276418566703796\n",
       "z: -0.5774286985397339\n",
       "visibility: 0.9999998807907104\n",
       ",\n",
       "       x: 0.47898226976394653\n",
       "y: 0.263754665851593\n",
       "z: -0.37337642908096313\n",
       "visibility: 0.9999998807907104\n",
       ",\n",
       "       x: 0.4128172993659973\n",
       "y: 0.2610451281070709\n",
       "z: -0.26836198568344116\n",
       "visibility: 0.9999998807907104\n",
       ",\n",
       "       x: 0.4487845003604889\n",
       "y: 0.28870365023612976\n",
       "z: -0.5451633930206299\n",
       "visibility: 0.9999997615814209\n",
       ",\n",
       "       x: 0.42330607771873474\n",
       "y: 0.2878100574016571\n",
       "z: -0.5185578465461731\n",
       "visibility: 0.9999997615814209\n",
       ",\n",
       "       x: 0.5417149066925049\n",
       "y: 0.33605411648750305\n",
       "z: -0.31664174795150757\n",
       "visibility: 0.9999936819076538\n",
       ",\n",
       "       x: 0.3998345732688904\n",
       "y: 0.3058302700519562\n",
       "z: 0.016189368441700935\n",
       "visibility: 0.9999793767929077\n",
       ",\n",
       "       x: 0.6337472796440125\n",
       "y: 0.34789329767227173\n",
       "z: -0.7948378920555115\n",
       "visibility: 0.9999284744262695\n",
       ",\n",
       "       x: 0.35226258635520935\n",
       "y: 0.2779351472854614\n",
       "z: 0.4023900032043457\n",
       "visibility: 0.4914070963859558\n",
       ",\n",
       "       x: 0.7336364984512329\n",
       "y: 0.3398286700248718\n",
       "z: -1.405750036239624\n",
       "visibility: 0.9999926090240479\n",
       ",\n",
       "       x: 0.32424283027648926\n",
       "y: 0.2844303846359253\n",
       "z: 0.8132072687149048\n",
       "visibility: 0.9276286363601685\n",
       ",\n",
       "       x: 0.7613903284072876\n",
       "y: 0.33223721385002136\n",
       "z: -1.4896669387817383\n",
       "visibility: 0.9999921321868896\n",
       ",\n",
       "       x: 0.3165366053581238\n",
       "y: 0.2966572940349579\n",
       "z: 0.8768194913864136\n",
       "visibility: 0.9205535650253296\n",
       ",\n",
       "       x: 0.7471447587013245\n",
       "y: 0.32614558935165405\n",
       "z: -1.5531712770462036\n",
       "visibility: 0.9999949932098389\n",
       ",\n",
       "       x: 0.3260984718799591\n",
       "y: 0.299606591463089\n",
       "z: 0.8693557977676392\n",
       "visibility: 0.9236494302749634\n",
       ",\n",
       "       x: 0.7332078218460083\n",
       "y: 0.331220805644989\n",
       "z: -1.4466346502304077\n",
       "visibility: 0.9999890327453613\n",
       ",\n",
       "       x: 0.3308066129684448\n",
       "y: 0.2986500561237335\n",
       "z: 0.8205798864364624\n",
       "visibility: 0.9148781895637512\n",
       ",\n",
       "       x: 0.5400222539901733\n",
       "y: 0.5205630660057068\n",
       "z: -0.10097305476665497\n",
       "visibility: 0.999809205532074\n",
       ",\n",
       "       x: 0.4334285259246826\n",
       "y: 0.5189348459243774\n",
       "z: 0.10084249079227448\n",
       "visibility: 0.9998237490653992\n",
       ",\n",
       "       x: 0.69063401222229\n",
       "y: 0.610144317150116\n",
       "z: -0.1799449920654297\n",
       "visibility: 0.9997519850730896\n",
       ",\n",
       "       x: 0.2843995988368988\n",
       "y: 0.5687586069107056\n",
       "z: -0.307630717754364\n",
       "visibility: 0.9969314336776733\n",
       ",\n",
       "       x: 0.8610224723815918\n",
       "y: 0.6976264119148254\n",
       "z: -0.11003130674362183\n",
       "visibility: 0.9996345043182373\n",
       ",\n",
       "       x: 0.2493315041065216\n",
       "y: 0.6971288919448853\n",
       "z: -0.18262465298175812\n",
       "visibility: 0.9957966804504395\n",
       ",\n",
       "       x: 0.8705729246139526\n",
       "y: 0.707776665687561\n",
       "z: -0.11459096521139145\n",
       "visibility: 0.9977598190307617\n",
       ",\n",
       "       x: 0.26665470004081726\n",
       "y: 0.7201577425003052\n",
       "z: -0.1790832281112671\n",
       "visibility: 0.9922055602073669\n",
       ",\n",
       "       x: 0.8954768180847168\n",
       "y: 0.7401878237724304\n",
       "z: -0.32299983501434326\n",
       "visibility: 0.9997401833534241\n",
       ",\n",
       "       x: 0.16002947092056274\n",
       "y: 0.7309926748275757\n",
       "z: -0.34165966510772705\n",
       "visibility: 0.9977681636810303\n",
       "], dtype=object)"
      ]
     },
     "execution_count": 29,
     "metadata": {},
     "output_type": "execute_result"
    }
   ],
   "source": [
    "coords"
   ]
  },
  {
   "cell_type": "code",
   "execution_count": 30,
   "metadata": {},
   "outputs": [
    {
     "data": {
      "text/plain": [
       "33"
      ]
     },
     "execution_count": 30,
     "metadata": {},
     "output_type": "execute_result"
    }
   ],
   "source": [
    "len(coords)"
   ]
  },
  {
   "cell_type": "code",
   "execution_count": 31,
   "metadata": {},
   "outputs": [
    {
     "data": {
      "text/plain": [
       "0.43170350790023804"
      ]
     },
     "execution_count": 31,
     "metadata": {},
     "output_type": "execute_result"
    }
   ],
   "source": [
    "coords[0].x"
   ]
  },
  {
   "cell_type": "code",
   "execution_count": 32,
   "metadata": {},
   "outputs": [],
   "source": [
    "# 在不用耗时循环的条件下，汇总所有点的XYZ坐标\n",
    "def get_X(each):\n",
    "    return each.x\n",
    "def get_Y(each):\n",
    "    return each.y\n",
    "def get_Z(each):\n",
    "    return each.z\n",
    "\n",
    "#分别获取所有关键点的XYZ坐标\n",
    "points_x = np.array(list(map(get_X,coords)))\n",
    "points_y = np.array(list(map(get_Y,coords)))\n",
    "points_z = np.array(list(map(get_Z,coords)))\n",
    "\n",
    "#将三个方向的坐标合并\n",
    "points = np.vstack((points_x,points_y,points_z)).T "
   ]
  },
  {
   "cell_type": "code",
   "execution_count": 33,
   "metadata": {},
   "outputs": [
    {
     "data": {
      "text/plain": [
       "(33, 3)"
      ]
     },
     "execution_count": 33,
     "metadata": {},
     "output_type": "execute_result"
    }
   ],
   "source": [
    "points.shape"
   ]
  },
  {
   "cell_type": "code",
   "execution_count": 34,
   "metadata": {},
   "outputs": [
    {
     "data": {
      "text/plain": [
       "array([[ 0.43170351,  0.27752781, -0.63253099],\n",
       "       [ 0.44496173,  0.26300579, -0.60083216],\n",
       "       [ 0.45448416,  0.26234424, -0.60124183],\n",
       "       [ 0.46472138,  0.26203111, -0.60085481],\n",
       "       [ 0.42344934,  0.26386714, -0.57686216],\n",
       "       [ 0.41706747,  0.26340896, -0.57735223],\n",
       "       [ 0.41121393,  0.26276419, -0.5774287 ],\n",
       "       [ 0.47898227,  0.26375467, -0.37337643],\n",
       "       [ 0.4128173 ,  0.26104513, -0.26836199],\n",
       "       [ 0.4487845 ,  0.28870365, -0.54516339],\n",
       "       [ 0.42330608,  0.28781006, -0.51855785],\n",
       "       [ 0.54171491,  0.33605412, -0.31664175],\n",
       "       [ 0.39983457,  0.30583027,  0.01618937],\n",
       "       [ 0.63374728,  0.3478933 , -0.79483789],\n",
       "       [ 0.35226259,  0.27793515,  0.40239   ],\n",
       "       [ 0.7336365 ,  0.33982867, -1.40575004],\n",
       "       [ 0.32424283,  0.28443038,  0.81320727],\n",
       "       [ 0.76139033,  0.33223721, -1.48966694],\n",
       "       [ 0.31653661,  0.29665729,  0.87681949],\n",
       "       [ 0.74714476,  0.32614559, -1.55317128],\n",
       "       [ 0.32609847,  0.29960659,  0.8693558 ],\n",
       "       [ 0.73320782,  0.33122081, -1.44663465],\n",
       "       [ 0.33080661,  0.29865006,  0.82057989],\n",
       "       [ 0.54002225,  0.52056307, -0.10097305],\n",
       "       [ 0.43342853,  0.51893485,  0.10084249],\n",
       "       [ 0.69063401,  0.61014432, -0.17994499],\n",
       "       [ 0.2843996 ,  0.56875861, -0.30763072],\n",
       "       [ 0.86102247,  0.69762641, -0.11003131],\n",
       "       [ 0.2493315 ,  0.69712889, -0.18262465],\n",
       "       [ 0.87057292,  0.70777667, -0.11459097],\n",
       "       [ 0.2666547 ,  0.72015774, -0.17908323],\n",
       "       [ 0.89547682,  0.74018782, -0.32299984],\n",
       "       [ 0.16002947,  0.73099267, -0.34165967]])"
      ]
     },
     "execution_count": 34,
     "metadata": {},
     "output_type": "execute_result"
    }
   ],
   "source": [
    "points"
   ]
  },
  {
   "cell_type": "code",
   "execution_count": 39,
   "metadata": {},
   "outputs": [
    {
     "name": "stdout",
     "output_type": "stream",
     "text": [
      "[Open3D WARNING] GLFW Error: WGL: Failed to make context current: 句柄无效。 \n"
     ]
    }
   ],
   "source": [
    "import open3d\n",
    "point_cloud = open3d.geometry.PointCloud()\n",
    "point_cloud.points = open3d.utility.Vector3dVector(points)\n",
    "open3d.visualization.draw_geometries([point_cloud])"
   ]
  },
  {
   "cell_type": "code",
   "execution_count": null,
   "metadata": {},
   "outputs": [],
   "source": []
  }
 ],
 "metadata": {
  "interpreter": {
   "hash": "8325690feb577cac385ec0fc6939deb5266811a72568d455e88d36c3be9397bb"
  },
  "kernelspec": {
   "display_name": "Python 3.7.8 ('base')",
   "language": "python",
   "name": "python3"
  },
  "language_info": {
   "codemirror_mode": {
    "name": "ipython",
    "version": 3
   },
   "file_extension": ".py",
   "mimetype": "text/x-python",
   "name": "python",
   "nbconvert_exporter": "python",
   "pygments_lexer": "ipython3",
   "version": "3.7.8"
  },
  "orig_nbformat": 4
 },
 "nbformat": 4,
 "nbformat_minor": 2
}
