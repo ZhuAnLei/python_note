{
 "cells": [
  {
   "cell_type": "code",
   "execution_count": 1,
   "metadata": {},
   "outputs": [],
   "source": [
    "import cv2\n",
    "import mediapipe as mp\n",
    "from tqdm import tqdm\n",
    "import time"
   ]
  },
  {
   "cell_type": "code",
   "execution_count": 2,
   "metadata": {},
   "outputs": [],
   "source": [
    "#导入solution\n",
    "mp_pose = mp.solutions.pose\n",
    "\n",
    "#导入绘图函数\n",
    "mp_drawing = mp.solutions.drawing_utils\n",
    "\n",
    "#导入模型\n",
    "pose = mp_pose.Pose(\n",
    "    static_image_mode=False,         #是静态图片还是连续视频帧\n",
    "    model_complexity=0,             #选择人体姿势关键点检测模型，0性能差但是快，2性能好但是慢，1介于两者之间\n",
    "    smooth_landmarks=True,          #是否平滑关键点\n",
    "    enable_segmentation=True,       #是否人体抠图\n",
    "    smooth_segmentation=True,\n",
    "    min_detection_confidence=0.5,   #置信度阈值\n",
    "    min_tracking_confidence=0.5,    #追踪阈值\n",
    ")"
   ]
  },
  {
   "cell_type": "code",
   "execution_count": 3,
   "metadata": {},
   "outputs": [],
   "source": [
    "def process_frame(img):\n",
    "    start_time = time.time()\n",
    "    h,w = img.shape[0],img.shape[1]\n",
    "\n",
    "    img_RGB = cv2.cvtColor(img,cv2.COLOR_BGR2RGB)\n",
    "\n",
    "    #将RGB图像输入模型，获取预测结果\n",
    "    results = pose.process(img_RGB)\n",
    "\n",
    "    if results.pose_landmarks:#若检测出人体关键点\n",
    "        #可视化关键点及骨架连线\n",
    "        mp_drawing.draw_landmarks(img,results.pose_landmarks,mp_pose.POSE_CONNECTIONS)\n",
    "        for i in range(33):\n",
    "            #获取关键点的三维坐标\n",
    "            cx = int(results.pose_landmarks.landmark[i].x *w)\n",
    "            cy = int(results.pose_landmarks.landmark[i].y *h)\n",
    "            cz = results.pose_landmarks.landmark[i].z\n",
    "\n",
    "            radius = 10\n",
    "\n",
    "            if i==0:#鼻尖\n",
    "                img = cv2.circle(img,(cx,cy),radius,(0,0,255),-1)\n",
    "            elif i in [11,12]: #肩膀\n",
    "                img = cv2.circle(img,(cx,cy),radius,(223,155,6),-1)\n",
    "            elif i in [23,24]: #髋关节\n",
    "                img = cv2.circle(img,(cx,cy),radius,(1,240,255),-1)\n",
    "            elif i in [13,14]: #胳膊肘\n",
    "                img = cv2.circle(img,(cx,cy),radius,(140,47,240),-1)\n",
    "            elif i in [25,26]: #膝盖\n",
    "                img = cv2.circle(img,(cx,cy),radius,(0,0,255),-1)\n",
    "            elif i in [15,16,27,28]: #手腕和脚腕\n",
    "                img = cv2.circle(img,(cx,cy),radius,(223,155,60),-1)\n",
    "            elif i in [17,19,21]: #左手\n",
    "                img = cv2.circle(img,(cx,cy),radius,(94,218,121),-1)\n",
    "            elif i in [18,20,22]: #右手\n",
    "                img = cv2.circle(img,(cx,cy),radius,(16,144,247),-1)\n",
    "            elif i in [27,19,31]: #左脚\n",
    "                img = cv2.circle(img,(cx,cy),radius,(29,123,243),-1)\n",
    "            elif i in [28,30,32]: #右脚\n",
    "                img = cv2.circle(img,(cx,cy),radius,(193,182,255),-1)\n",
    "            elif i in [9,10]: #嘴\n",
    "                img = cv2.circle(img,(cx,cy),radius,(205,235,255),-1)\n",
    "            elif i in [1,2,3,4,5,6,7,8]: #眼及脸颊\n",
    "                img = cv2.circle(img,(cx,cy),radius,(94,218,121),-1)\n",
    "            else:\n",
    "                img = cv2.circle(img,(cx,cy),radius,(0,255,0),-1)\n",
    "    else:\n",
    "        scaler = 1\n",
    "        failure_str = 'No Person'\n",
    "        img = cv2.putText(img,failure_str,(25*scaler,100*scaler),cv2.FONT_HERSHEY_SIMPLEX,1.25*scaler,(255,255,255),5)\n",
    "\n",
    "    end_time = time.time()\n",
    "    FPS = 1/(end_time-start_time)\n",
    "\n",
    "    scaler = 1\n",
    "    img = cv2.putText(img,'FPS  '+str(int(FPS)),(25*scaler,50*scaler),cv2.FONT_HERSHEY_SIMPLEX,1.25*scaler,(255,255,255),5)\n",
    "    return img\n"
   ]
  },
  {
   "cell_type": "code",
   "execution_count": 4,
   "metadata": {},
   "outputs": [],
   "source": [
    "def generate_video(input_path = '1.mp4'):\n",
    "    output_path = \"out-\"+input_path\n",
    "    print('视频开始处理',input_path)\n",
    "    #获取视频总帧数\n",
    "    cap = cv2.VideoCapture(input_path)\n",
    "    frame_count = 0\n",
    "    while(cap.isOpened()):\n",
    "        success,frame = cap.read()\n",
    "        frame_count+=1\n",
    "        if not success:\n",
    "            break\n",
    "    cap.release()\n",
    "    print('视频总帧数为：',frame_count)\n",
    "    cap = cv2.VideoCapture(input_path)\n",
    "    frame_size = (cap.get(cv2.CAP_PROP_FRAME_WIDTH),cap.get(cv2.CAP_PROP_FRAME_HEIGHT))\n",
    "\n",
    "    fourcc = cv2.VideoWriter_fourcc(*'mp4v')\n",
    "    fps = cap.get(cv2.CAP_PROP_FPS)\n",
    "\n",
    "    out = cv2.VideoWriter(output_path,fourcc,fps,(int(frame_size[0]),int(frame_size[1])))\n",
    "\n",
    "    #进度条绑定视频总帧数\n",
    "    with tqdm(total=frame_count-1) as pbar:\n",
    "        try:\n",
    "            while(cap.isOpened()):\n",
    "                success,frame = cap.read()\n",
    "                if not success:\n",
    "                    break\n",
    "                try:\n",
    "                    frame = process_frame(frame)\n",
    "                except:\n",
    "                    print('error')\n",
    "                    pass\n",
    "                if success == True:\n",
    "                    out.write(frame)\n",
    "\n",
    "                    #进度条更新一帧\n",
    "                    pbar.update(1)\n",
    "        except:\n",
    "            print('中途中断')\n",
    "            pass\n",
    "    cv2.destroyAllWindows()\n",
    "    out.release()\n",
    "    cap.release()\n",
    "    print('视频已保存',output_path)\n"
   ]
  },
  {
   "cell_type": "code",
   "execution_count": 5,
   "metadata": {},
   "outputs": [
    {
     "name": "stdout",
     "output_type": "stream",
     "text": [
      "视频开始处理 1.mp4\n",
      "视频总帧数为： 2923\n"
     ]
    },
    {
     "name": "stderr",
     "output_type": "stream",
     "text": [
      "100%|██████████| 2922/2922 [05:26<00:00,  8.95it/s]\n"
     ]
    },
    {
     "name": "stdout",
     "output_type": "stream",
     "text": [
      "视频已保存 out-1.mp4\n"
     ]
    }
   ],
   "source": [
    "generate_video(input_path='1.mp4')"
   ]
  },
  {
   "cell_type": "code",
   "execution_count": null,
   "metadata": {},
   "outputs": [],
   "source": []
  }
 ],
 "metadata": {
  "interpreter": {
   "hash": "8325690feb577cac385ec0fc6939deb5266811a72568d455e88d36c3be9397bb"
  },
  "kernelspec": {
   "display_name": "Python 3.7.8 ('base')",
   "language": "python",
   "name": "python3"
  },
  "language_info": {
   "codemirror_mode": {
    "name": "ipython",
    "version": 3
   },
   "file_extension": ".py",
   "mimetype": "text/x-python",
   "name": "python",
   "nbconvert_exporter": "python",
   "pygments_lexer": "ipython3",
   "version": "3.7.8"
  },
  "orig_nbformat": 4
 },
 "nbformat": 4,
 "nbformat_minor": 2
}
